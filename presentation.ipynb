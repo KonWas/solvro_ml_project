{
 "cells": [
  {
   "cell_type": "markdown",
   "id": "37138d367742ac19",
   "metadata": {
    "collapsed": false,
    "jupyter": {
     "outputs_hidden": false
    }
   },
   "source": [
    "Prezentacja wyników klasyfikacji liter\n",
    "Wprowadzenie\n",
    "W tej prezentacji zajmiemy się klasyfikacją liter alfabetu. Skorzystamy z wytrenowanego modelu i zbioru danych testowych do przewidywania liter na obrazkach.\n",
    "\n",
    "1. Importowanie bibliotek\n",
    "Najpierw musimy zaimportować niezbędne biblioteki do analizy danych i uczenia maszynowego. Oto niezbędne biblioteki:"
   ]
  },
  {
   "cell_type": "code",
   "execution_count": 22,
   "id": "initial_id",
   "metadata": {
    "ExecuteTime": {
     "end_time": "2023-11-07T18:51:53.704739800Z",
     "start_time": "2023-11-07T18:51:53.664426800Z"
    },
    "collapsed": false,
    "jupyter": {
     "outputs_hidden": false
    }
   },
   "outputs": [],
   "source": [
    "import numpy as np\n",
    "import torch\n",
    "import pandas as pd\n",
    "from torch.utils.data import TensorDataset\n",
    "from torch.utils.data import DataLoader\n",
    "import matplotlib.pyplot as plt\n",
    "from model import Net\n",
    "import torch.nn as nn\n",
    "import torch.nn.functional as F\n",
    "import re\n",
    "import random"
   ]
  },
  {
   "cell_type": "markdown",
   "id": "4dd9ddd635b2a686",
   "metadata": {
    "collapsed": false,
    "jupyter": {
     "outputs_hidden": false
    }
   },
   "source": [
    "2. Przygotowanie danych do trenowania\n",
    "Wcześniej przeprowadziliśmy przygotowanie danych do trenowania i wczytaliśmy je z plików:"
   ]
  },
  {
   "cell_type": "code",
   "execution_count": 2,
   "id": "7764e669a9cf0ee6",
   "metadata": {
    "ExecuteTime": {
     "end_time": "2023-11-07T18:39:50.806391700Z",
     "start_time": "2023-11-07T18:39:50.662892200Z"
    },
    "collapsed": false,
    "jupyter": {
     "outputs_hidden": false
    }
   },
   "outputs": [],
   "source": [
    "X_train = np.load('X_train.npy')\n",
    "y_train = np.load('y_train.npy')\n",
    "X_val = np.load('X_val.npy')\n",
    "y_val = np.load('y_val.npy')\n",
    "X_test = np.load('X_test.npy')\n",
    "\n",
    "X_train = torch.tensor(X_train, dtype=torch.float32)\n",
    "y_train = torch.tensor(y_train, dtype=torch.long)\n",
    "X_val = torch.tensor(X_val, dtype=torch.float32)\n",
    "y_val = torch.tensor(y_val, dtype=torch.long)\n",
    "X_test = torch.tensor(X_test, dtype=torch.float32)"
   ]
  },
  {
   "cell_type": "markdown",
   "id": "5c621636ebbffcbb",
   "metadata": {
    "collapsed": false,
    "jupyter": {
     "outputs_hidden": false
    }
   },
   "source": [
    "3. Wczytywanie danych testowych\n",
    "Przygotowaliśmy dane testowe, które zostaną użyte do klasyfikacji liter. Wczytujemy je z pliku X_test.npy:\n"
   ]
  },
  {
   "cell_type": "code",
   "execution_count": 3,
   "id": "878a5bc4deeb31be",
   "metadata": {
    "ExecuteTime": {
     "end_time": "2023-11-07T18:40:10.434406200Z",
     "start_time": "2023-11-07T18:40:10.402906600Z"
    },
    "collapsed": false,
    "jupyter": {
     "outputs_hidden": false
    }
   },
   "outputs": [],
   "source": [
    "X_test = np.load('X_test.npy')\n",
    "X_test = torch.tensor(X_test, dtype=torch.float32)\n",
    "test_dataset = TensorDataset(X_test)"
   ]
  },
  {
   "cell_type": "markdown",
   "id": "ac8a939b5d785fb5",
   "metadata": {
    "collapsed": false,
    "jupyter": {
     "outputs_hidden": false
    }
   },
   "source": [
    "4. Wczytanie wytrenowanego modelu\n",
    "Model, który zostanie użyty do klasyfikacji liter, jest już wytrenowany i zapisany w pliku \"model.pt\". Wczytujemy go:"
   ]
  },
  {
   "cell_type": "code",
   "execution_count": 5,
   "id": "766194a6b5097753",
   "metadata": {
    "ExecuteTime": {
     "end_time": "2023-11-07T18:40:28.712931500Z",
     "start_time": "2023-11-07T18:40:28.679930900Z"
    },
    "collapsed": false,
    "jupyter": {
     "outputs_hidden": false
    }
   },
   "outputs": [
    {
     "data": {
      "text/plain": [
       "Net(\n",
       "  (fc1): Linear(in_features=784, out_features=100, bias=True)\n",
       "  (fc2): Linear(in_features=100, out_features=26, bias=True)\n",
       ")"
      ]
     },
     "execution_count": 5,
     "metadata": {},
     "output_type": "execute_result"
    }
   ],
   "source": [
    "device = torch.device(\"cuda:0\" if torch.cuda.is_available() else \"cpu\")\n",
    "model = Net(784, 26).to(device)\n",
    "model.load_state_dict(torch.load(\"model.pt\"))\n",
    "model.eval()"
   ]
  },
  {
   "cell_type": "markdown",
   "id": "97e8a66cb3748da9",
   "metadata": {
    "collapsed": false,
    "jupyter": {
     "outputs_hidden": false
    }
   },
   "source": [
    "5. Architektura modelu\n",
    "Oto jak wygląda architektura modelu sieci neuronowej, która została użyta do klasyfikacji liter:"
   ]
  },
  {
   "cell_type": "code",
   "execution_count": 9,
   "id": "7f1e963497176811",
   "metadata": {
    "ExecuteTime": {
     "end_time": "2023-11-07T18:41:11.696837600Z",
     "start_time": "2023-11-07T18:41:11.681337Z"
    },
    "collapsed": false,
    "jupyter": {
     "outputs_hidden": false
    }
   },
   "outputs": [],
   "source": [
    "class Net(nn.Module):\n",
    "    def __init__(self, input_size, output_size):\n",
    "        super().__init()\n",
    "        self.fc1 = nn.Linear(input_size, 100)\n",
    "        self.fc2 = nn.Linear(100, output_size)\n",
    "\n",
    "    def forward(self, x):\n",
    "        x = F.relu(self.fc1(x))\n",
    "        x = self.fc2(x)\n",
    "        return x"
   ]
  },
  {
   "cell_type": "markdown",
   "id": "a30042293afc7a2d",
   "metadata": {
    "collapsed": false,
    "jupyter": {
     "outputs_hidden": false
    }
   },
   "source": [
    "6. Przygotowanie danych do trenowania\n",
    "Przygotowaliśmy dane treningowe i walidacyjne wcześniej. Oto jak je przygotowaliśmy:"
   ]
  },
  {
   "cell_type": "code",
   "execution_count": 16,
   "id": "64d885004e39c29",
   "metadata": {
    "ExecuteTime": {
     "end_time": "2023-11-07T18:44:58.266251Z",
     "start_time": "2023-11-07T18:44:58.256750800Z"
    },
    "collapsed": false,
    "jupyter": {
     "outputs_hidden": false
    }
   },
   "outputs": [],
   "source": [
    "train_dataset = TensorDataset(X_train, y_train)\n",
    "val_dataset = TensorDataset(X_val, y_val)\n",
    "\n",
    "batch_size = 64\n",
    "train_loader = DataLoader(train_dataset, batch_size=batch_size, shuffle=True)\n",
    "val_loader = DataLoader(val_dataset, batch_size=batch_size)\n",
    "\n",
    "optimizer = torch.optim.Adam(model.parameters(), lr=0.001)\n",
    "loss_fn = torch.nn.CrossEntropyLoss()\n",
    "epochs = 50"
   ]
  },
  {
   "cell_type": "markdown",
   "id": "357673cff29d5b8a",
   "metadata": {
    "collapsed": false,
    "jupyter": {
     "outputs_hidden": false
    }
   },
   "source": [
    "7. Funkcje trenowania modelu\n",
    "Oto funkcje train i validate, które zostały użyte do treningu modelu:\n"
   ]
  },
  {
   "cell_type": "code",
   "execution_count": 12,
   "id": "7af271bcfedf06e9",
   "metadata": {
    "ExecuteTime": {
     "start_time": "2023-11-07T18:42:43.005975400Z"
    },
    "collapsed": false,
    "jupyter": {
     "outputs_hidden": false
    }
   },
   "outputs": [],
   "source": [
    "def train(epoch):\n",
    "    model.train()\n",
    "    for batch_idx, (data, target) in enumerate(train_loader):\n",
    "        data = data.to(device)\n",
    "        target = target.to(device)\n",
    "\n",
    "        data = data.view(data.size(0), -1)\n",
    "\n",
    "        optimizer.zero_grad()\n",
    "        output = model(data)\n",
    "\n",
    "        target = target.float()\n",
    "\n",
    "        loss = loss_fn(output, target)\n",
    "        loss.backward()\n",
    "        optimizer.step()\n",
    "\n",
    "        if batch_idx % 100 == 0:\n",
    "            print('Train Epoch: {} [{}/{} ({:.0f}%)]\\tLoss: {:.6f}'\n",
    "                  .format(epoch, batch_idx * len(data), len(train_loader.dataset),\n",
    "                          100. * batch_idx / len(train_loader), loss.item()))\n",
    "\n",
    "def validate():\n",
    "    model.eval()\n",
    "    val_loss = 0\n",
    "    correct = 0\n",
    "    with torch.no_grad():\n",
    "        for data, target_onehot in val_loader:\n",
    "            data = data.to(device)\n",
    "            target = torch.argmax(target_onehot, dim=1).to(device)\n",
    "\n",
    "            data = data.view(data.size(0), -1)\n",
    "\n",
    "            output = model(data)\n",
    "            val_loss += loss_fn(output, target).item()\n",
    "            pred = output.argmax(dim=1, keepdim=True)\n",
    "            correct += pred.eq(target.view_as(pred)).sum().item()\n",
    "\n",
    "    val_loss /= len(val_loader.dataset)\n",
    "    print('\\nValidation set: Average loss: {:.4f}, Accuracy: {}/{} ({:.0f}%)\\n'\n",
    "          .format(val_loss, correct, len(val_loader.dataset),\n",
    "                  100. * correct / len(val_loader.dataset)))"
   ]
  },
  {
   "cell_type": "markdown",
   "id": "b1b6c4595508ad03",
   "metadata": {
    "collapsed": false,
    "jupyter": {
     "outputs_hidden": false
    }
   },
   "source": [
    "8. Przygotowanie danych pod wykresy"
   ]
  },
  {
   "cell_type": "code",
   "execution_count": 29,
   "id": "df85982a97a699e5",
   "metadata": {
    "ExecuteTime": {
     "end_time": "2023-11-07T18:57:42.985964200Z",
     "start_time": "2023-11-07T18:57:42.973464200Z"
    },
    "collapsed": false,
    "jupyter": {
     "outputs_hidden": false
    }
   },
   "outputs": [],
   "source": [
    "train_losses = []\n",
    "val_losses = []\n",
    "val_accuracies = []\n",
    "\n",
    "# Otwarcie pliku z wynikami trenowania\n",
    "with open('50_epochs_result_training.txt', 'r') as file:\n",
    "    lines = file.readlines()\n",
    "\n",
    "# Wyrażenia regularne do wyodrębnienia informacji o błędach i dokładności\n",
    "train_loss_pattern = re.compile(r'Train Epoch: \\d+.*Loss: (\\d+\\.\\d+)')\n",
    "val_loss_pattern = re.compile(r'Validation set: Average loss: (\\d+\\.\\d+)')\n",
    "val_accuracy_pattern = re.compile(r'Validation set: Average loss: \\d+\\.\\d+, Accuracy: (\\d+)/(\\d+)')\n",
    "\n",
    "# Przechodzenie przez linie w pliku i wyodrębnianie danych\n",
    "for line in lines:\n",
    "    train_loss_match = train_loss_pattern.search(line)\n",
    "    val_loss_match = val_loss_pattern.search(line)\n",
    "    val_accuracy_match = val_accuracy_pattern.search(line)\n",
    "\n",
    "    if train_loss_match:\n",
    "        train_loss = float(train_loss_match.group(1))\n",
    "        train_losses.append(train_loss)\n",
    "    if val_loss_match:\n",
    "        val_loss = float(val_loss_match.group(1))\n",
    "        val_losses.append(val_loss)\n",
    "    if val_accuracy_match:\n",
    "        val_accuracy = int(val_accuracy_match.group(1))\n",
    "        val_total = int(val_accuracy_match.group(2))\n",
    "        val_accuracy_percent = (val_accuracy / val_total) * 100  # Konwersja na procenty\n",
    "        val_accuracies.append(val_accuracy_percent)\n",
    " "
   ]
  },
  {
   "cell_type": "markdown",
   "id": "b34cf3ed027c9af8",
   "metadata": {
    "collapsed": false,
    "jupyter": {
     "outputs_hidden": false
    }
   },
   "source": [
    "9. Wykresy wyników treningu\n",
    "Teraz przyjrzyjmy się wykresom przedstawiającym wyniki treningu modelu. Oto wykres dokładności i straty na zbiorze walidacyjnym w trakcie treningu:"
   ]
  },
  {
   "cell_type": "code",
   "execution_count": 32,
   "id": "167778e9a0d64f6f",
   "metadata": {
    "ExecuteTime": {
     "end_time": "2023-11-07T18:58:24.954435900Z",
     "start_time": "2023-11-07T18:58:24.856430200Z"
    },
    "collapsed": false,
    "jupyter": {
     "outputs_hidden": false
    }
   },
   "outputs": [
    {
     "data": {
      "image/png": "[encoded data removed]",
      "text/plain": [
       "<Figure size 1200x400 with 1 Axes>"
      ]
     },
     "metadata": {},
     "output_type": "display_data"
    }
   ],
   "source": [
    "# Tworzenie listy epok\n",
    "epochs = list(range(1, 51))\n",
    "\n",
    "plt.figure(figsize=(12, 4))\n",
    "\n",
    "plt.subplot(1, 2, 2)\n",
    "plt.plot(epochs, val_accuracies, label='Validation Accuracy')\n",
    "plt.title('Validation Accuracy')\n",
    "plt.xlabel('Epochs')\n",
    "plt.ylabel('Accuracy')\n",
    "plt.legend()\n",
    "plt.grid(True)"
   ]
  },
  {
   "cell_type": "markdown",
   "id": "d523d6a0d5ef0f43",
   "metadata": {
    "collapsed": false,
    "jupyter": {
     "outputs_hidden": false
    }
   },
   "source": [
    "10. Klasyfikacja liter\n",
    "Teraz przystępujemy do klasyfikacji liter na zbiorze testowym. Wykorzystujemy wczytany model i zapisujemy wyniki:"
   ]
  },
  {
   "cell_type": "code",
   "execution_count": 21,
   "id": "38d889ca49f41a7c",
   "metadata": {
    "ExecuteTime": {
     "end_time": "2023-11-07T18:51:27.248989100Z",
     "start_time": "2023-11-07T18:51:25.307510800Z"
    },
    "collapsed": false,
    "jupyter": {
     "outputs_hidden": false
    }
   },
   "outputs": [
    {
     "name": "stdout",
     "output_type": "stream",
     "text": [
      "Wyniki zostały zapisane do submission.csv.\n"
     ]
    }
   ],
   "source": [
    "# Tworzenie mapowania między klasami a literami\n",
    "class_to_letter = {i: chr(65 + i) for i in range(26)}\n",
    "\n",
    "# Inicjalizacja listy wyników\n",
    "results = []\n",
    "\n",
    "# Przetestowanie modelu na zbiorze testowym i zapis wyników\n",
    "for i in range(len(X_test)):\n",
    "    data = X_test[i].view(1, -1).to(device)\n",
    "    output = model(data)\n",
    "\n",
    "    predicted_class = output.argmax().item()\n",
    "    predicted_letter = class_to_letter[predicted_class]\n",
    "\n",
    "    # Zapis wyniku (numer indeksu i przewidywaną literę jako int)\n",
    "    results.append([i, predicted_class])\n",
    "\n",
    "# Zapis wyniki do pliku CSV\n",
    "results_df = pd.DataFrame(results, columns=[\"index\", \"class\"])\n",
    "results_df.to_csv(\"submission.csv\", index=False)\n",
    "\n",
    "print(\"Wyniki zostały zapisane do submission.csv.\")"
   ]
  },
  {
   "cell_type": "markdown",
   "id": "d551cffb0da63392",
   "metadata": {
    "collapsed": false,
    "jupyter": {
     "outputs_hidden": false
    }
   },
   "source": [
    "11. Wizualizacja wyników\n",
    "Ostatnią częścią prezentacji jest wizualizacja wyników. Możemy wybrać losowe obrazy ze zbioru testowego, skorzystać z wytrenowanego modelu do ich klasyfikacji i wyświetlić obrazy wraz z przewidywanymi literami. Oto jak to zrobimy:"
   ]
  },
  {
   "cell_type": "code",
   "execution_count": 27,
   "id": "173421641bef977e",
   "metadata": {
    "ExecuteTime": {
     "end_time": "2023-11-07T18:56:24.286215700Z",
     "start_time": "2023-11-07T18:56:23.690715900Z"
    },
    "collapsed": false,
    "jupyter": {
     "outputs_hidden": false
    }
   },
   "outputs": [
    {
     "data": {
      "image/png": "[encoded data removed]",
      "text/plain": [
       "<Figure size 1200x800 with 20 Axes>"
      ]
     },
     "metadata": {},
     "output_type": "display_data"
    }
   ],
   "source": [
    "# Inicjalizacja wykresu\n",
    "fig, axs = plt.subplots(4, 5, figsize=(12, 8))\n",
    "class_to_letter = {i: chr(65 + i) for i in range(26)}\n",
    "\n",
    "# Wyświetlenie przykładowych obrazków i przewidywanych liter\n",
    "for i in range(20):\n",
    "    example_idx = random.randint(0, len(X_test) - 1)\n",
    "    data = X_test[example_idx].view(1, -1).to(device)\n",
    "    output = model(data)\n",
    "\n",
    "    predicted_class = output.argmax().item()\n",
    "    predicted_letter = class_to_letter[predicted_class]\n",
    "\n",
    "    row, col = divmod(i, 5)\n",
    "    axs[row, col].imshow(data.view(28, 28).cpu().numpy(), cmap='gray')\n",
    "    axs[row, col].set_title(f'Predicted: {predicted_letter}')\n",
    "    axs[row, col].axis('off')  # Wyłącz wyświetlanie osi\n",
    "\n",
    "plt.tight_layout()  # Popraw wygląd wykresu\n",
    "plt.show()"
   ]
  },
  {
   "cell_type": "code",
   "execution_count": null,
   "id": "d495ab4383a11018",
   "metadata": {
    "collapsed": false,
    "jupyter": {
     "outputs_hidden": false
    }
   },
   "outputs": [],
   "source": []
  }
 ],
 "metadata": {
  "kernelspec": {
   "display_name": "Python 3 (ipykernel)",
   "language": "python",
   "name": "python3"
  },
  "language_info": {
   "codemirror_mode": {
    "name": "ipython",
    "version": 3
   },
   "file_extension": ".py",
   "mimetype": "text/x-python",
   "name": "python",
   "nbconvert_exporter": "python",
   "pygments_lexer": "ipython3",
   "version": "3.10.7"
  }
 },
 "nbformat": 4,
 "nbformat_minor": 5
}
